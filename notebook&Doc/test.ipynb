{
 "metadata": {
  "language_info": {
   "codemirror_mode": {
    "name": "ipython",
    "version": 3
   },
   "file_extension": ".py",
   "mimetype": "text/x-python",
   "name": "python",
   "nbconvert_exporter": "python",
   "pygments_lexer": "ipython3",
   "version": "3.8.1-final"
  },
  "orig_nbformat": 2,
  "kernelspec": {
   "name": "Python 3.8.1 64-bit",
   "display_name": "Python 3.8.1 64-bit",
   "metadata": {
    "interpreter": {
     "hash": "082e9a3bcad0a290d0001e938aa60b99250c6c2ef33a923c00b70f9826caf4b7"
    }
   }
  }
 },
 "nbformat": 4,
 "nbformat_minor": 2,
 "cells": [
  {
   "cell_type": "code",
   "execution_count": 58,
   "metadata": {},
   "outputs": [
    {
     "output_type": "stream",
     "name": "stdout",
     "text": [
      "[['Bostadstyp', 'Villa'], ['Upplåtelseform', 'Äganderätt'], ['Antal rum', '4 rum'], ['Boarea', '126 m²'], ['Tomtarea', '2434m²'], ['Byggår', '2017'], ['Driftkostnad', '41348kr/år'], ['Räkna på boendet']]\n"
     ]
    }
   ],
   "source": [
    "from urllib.parse import urlencode\n",
    "from bs4 import BeautifulSoup\n",
    "import json\n",
    "import requests\n",
    "import re\n",
    "import pandas as pd\n",
    "from urllib import request\n",
    "import numpy as np\n",
    "\n",
    "url = \"https://www.hemnet.se/bostad/villa-4rum-slatbaken-husbyvik-soderkopings-kommun-husaby-strand-16-17083596\"\n",
    "\n",
    "html = requests.get(url)\n",
    "soup = BeautifulSoup(html.text , 'html.parser')\n",
    "\"\"\"\n",
    "# Get Price \n",
    "\n",
    "price = soup.find('p', class_ = \"property-info__price qa-property-price\" ).text\n",
    "price = price.split()\n",
    "# join, entre guillement sepâration avec le caractere que l'on veut, et entre crochet ce qu'on veut omettre.\n",
    "price = \"\".join(price[:-1])\n",
    "price = int(price)\n",
    "\"\"\"\n",
    "\n",
    "tableArray =[]\n",
    "# Get size\n",
    "table = soup.find('div', class_ = \"property-attributes-table\" )\n",
    "table = table.find_all('div')\n",
    "for line in table : \n",
    "    tableArray.append(line.text.replace(u'\\xa0', u'').split(\"\\n\"))\n",
    "    #print(line.text)\n",
    "tArray = []\n",
    "for elem in tableArray :\n",
    "    elem = list(filter(None, elem))\n",
    "    tArray.append(elem)\n",
    "\n",
    "\n",
    "print(tArray)\n",
    "\n",
    "\n",
    "\n",
    "a = soup.find(\"a\", {\"class\": \"similar-listings-search-link__button\"}).attrs['href']\n",
    "newhtml = requests.get(a)\n",
    "soup2 = BeautifulSoup(newhtml.text , 'html.parser')\n",
    "\n",
    "\n",
    "\n",
    "link = soup2.find(\"a\", {\"class\": \"result-type-toggle__link js-result-type-toggle-sold-link qa-result-type-toggle-sold-link\"}).attrs['href']\n",
    "\n",
    "link = \"https://www.hemnet.se\" + link\n",
    "\n",
    "\n",
    "\n",
    "\n",
    "\n",
    "\n",
    "\n",
    "\n",
    "\n",
    "\n"
   ]
  },
  {
   "cell_type": "code",
   "execution_count": null,
   "metadata": {},
   "outputs": [],
   "source": []
  }
 ]
}