{
 "metadata": {
  "language_info": {
   "codemirror_mode": {
    "name": "ipython",
    "version": 3
   },
   "file_extension": ".py",
   "mimetype": "text/x-python",
   "name": "python",
   "nbconvert_exporter": "python",
   "pygments_lexer": "ipython3",
   "version": "3.8.1-final"
  },
  "orig_nbformat": 2,
  "kernelspec": {
   "name": "Python 3.8.1 64-bit",
   "display_name": "Python 3.8.1 64-bit",
   "metadata": {
    "interpreter": {
     "hash": "082e9a3bcad0a290d0001e938aa60b99250c6c2ef33a923c00b70f9826caf4b7"
    }
   }
  }
 },
 "nbformat": 4,
 "nbformat_minor": 2,
 "cells": [
  {
   "cell_type": "code",
   "execution_count": 11,
   "metadata": {},
   "outputs": [
    {
     "output_type": "stream",
     "name": "stdout",
     "text": [
      "https://www.hemnet.se/salda/bostader?housing_form_groups%5B%5D=houses&location_ids%5B%5D=17774\n"
     ]
    }
   ],
   "source": [
    "from urllib.parse import urlencode\n",
    "from bs4 import BeautifulSoup\n",
    "import json\n",
    "import requests\n",
    "import re\n",
    "import pandas as pd\n",
    "from urllib import request\n",
    "import numpy as np\n",
    "\n",
    "\n",
    "def getSimilar(url) :\n",
    "\n",
    "url = \"https://www.hemnet.se/bostad/villa-4rum-slatbaken-husbyvik-soderkopings-kommun-husaby-strand-16-17083596\"\n",
    "\n",
    "html = requests.get(url)\n",
    "soup = BeautifulSoup(html.text , 'html.parser')\n",
    "\n",
    "\n",
    "a = soup.find(\"a\", {\"class\": \"similar-listings-search-link__button\"}).attrs['href']\n",
    "newhtml = requests.get(a)\n",
    "soup2 = BeautifulSoup(newhtml.text , 'html.parser')\n",
    "\n",
    "link = soup2.find(\"a\", {\"class\": \"result-type-toggle__link js-result-type-toggle-sold-link qa-result-type-toggle-sold-link\"}).attrs['href']\n",
    "\n",
    "link = \"https://www.hemnet.se\" + link\n",
    "\n",
    "print(link)\n",
    "\n",
    "\n",
    "\n",
    "\n",
    "\n",
    "\n",
    "\n",
    "\n"
   ]
  },
  {
   "cell_type": "code",
   "execution_count": null,
   "metadata": {},
   "outputs": [],
   "source": [
    "from urllib.parse import urlencode\n",
    "from bs4 import BeautifulSoup\n",
    "import json\n",
    "import requests\n",
    "import re\n",
    "import pandas as pd\n",
    "from urllib import request\n",
    "import numpy as np\n",
    "\n",
    "html = requests.get(link)\n",
    "soup = BeautifulSoup(html.text , 'html.parser')\n",
    "\n",
    "# Slutpriser\n",
    "table = soup.find('div', class_ = \"property-attributes-table\" )\n",
    "\n",
    "#Tomtarea\n",
    "\n",
    "# "
   ]
  },
  {
   "cell_type": "code",
   "execution_count": 51,
   "metadata": {},
   "outputs": [
    {
     "output_type": "stream",
     "name": "stdout",
     "text": [
      "[['Bostadstyp', 'Villa'], ['Upplåtelseform', 'Äganderätt'], ['Antal rum', '4 rum'], ['Boarea', '126 m²'], ['Tomtarea', '2434m²'], ['Byggår', '2017'], ['Driftkostnad', '41348kr/år']]\n"
     ]
    },
    {
     "output_type": "execute_result",
     "data": {
      "text/plain": [
       "  Antal rum  Boarea Tomtarea Byggår Driftkostnad     pris\n",
       "0     4 rum  126 m²   2434m²   2017   41348kr/år  4495000"
      ],
      "text/html": "<div>\n<style scoped>\n    .dataframe tbody tr th:only-of-type {\n        vertical-align: middle;\n    }\n\n    .dataframe tbody tr th {\n        vertical-align: top;\n    }\n\n    .dataframe thead th {\n        text-align: right;\n    }\n</style>\n<table border=\"1\" class=\"dataframe\">\n  <thead>\n    <tr style=\"text-align: right;\">\n      <th></th>\n      <th>Antal rum</th>\n      <th>Boarea</th>\n      <th>Tomtarea</th>\n      <th>Byggår</th>\n      <th>Driftkostnad</th>\n      <th>pris</th>\n    </tr>\n  </thead>\n  <tbody>\n    <tr>\n      <th>0</th>\n      <td>4 rum</td>\n      <td>126 m²</td>\n      <td>2434m²</td>\n      <td>2017</td>\n      <td>41348kr/år</td>\n      <td>4495000</td>\n    </tr>\n  </tbody>\n</table>\n</div>"
     },
     "metadata": {},
     "execution_count": 51
    }
   ],
   "source": [
    "from urllib.parse import urlencode\n",
    "from bs4 import BeautifulSoup\n",
    "import json\n",
    "import requests\n",
    "import re\n",
    "import pandas as pd\n",
    "from urllib import request\n",
    "import numpy as np\n",
    "url = 'https://www.hemnet.se/bostad/villa-4rum-slatbaken-husbyvik-soderkopings-kommun-husaby-strand-16-17083596'\n",
    "def dfData(url) :\n",
    "\n",
    "    html = requests.get(url)\n",
    "    soup = BeautifulSoup(html.text , 'html.parser')\n",
    "\n",
    "    \n",
    "    tableArray =[]\n",
    "    # Get size\n",
    "    table = soup.find('div', class_ = \"property-attributes-table\" )\n",
    "    table = table.find_all('div')\n",
    "    for line in table : \n",
    "        tableArray.append(line.text.replace(u'\\xa0', u'').split(\"\\n\"))\n",
    "    #print(line.text)\n",
    "    tArray = []\n",
    "    for elem in tableArray :\n",
    "        elem = list(filter(None, elem))\n",
    "        tArray.append(elem)\n",
    "\n",
    "    tDict = {}\n",
    "\n",
    "    tArray.pop()\n",
    "    for x in tArray:\n",
    "        tDict[x[0]] = x[1]\n",
    "    \n",
    "    print(tArray)\n",
    "    price = soup.find('p', class_ = \"property-info__price qa-property-price\" ).text\n",
    "    price = re.sub(\"\\D\",\"\",price)\n",
    "    \n",
    "        \n",
    "    #print(price)\n",
    "\n",
    "    \n",
    "\n",
    "    df = pd.DataFrame([tDict])\n",
    "    df = df[['Antal rum', 'Boarea', 'Tomtarea', 'Byggår', 'Driftkostnad']]\n",
    "    df['Antal rum'] = df['Antal rum'].astype(str)\n",
    "    df['pris'] = int(price)\n",
    "    \n",
    "    #print(df.dtypes)\n",
    "\n",
    "\n",
    "\n",
    "    #df.to_csv(r'/Users/florianlandras/Documents/GitHub/estate-stats/backend/postProcess/\\dataToCompare.csv', index = False)\n",
    "    \n",
    "    return df\n",
    "\n",
    "dfData(url)"
   ]
  },
  {
   "cell_type": "code",
   "execution_count": null,
   "metadata": {},
   "outputs": [],
   "source": []
  }
 ]
}